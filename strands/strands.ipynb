{
 "cells": [
  {
   "cell_type": "code",
   "execution_count": 1,
   "id": "2ae89b7d",
   "metadata": {},
   "outputs": [],
   "source": [
    "# https://strandsagents.com/latest/documentation/docs/user-guide/concepts/multi-agent/swarm/"
   ]
  },
  {
   "cell_type": "code",
   "execution_count": 2,
   "id": "6a98fe28",
   "metadata": {},
   "outputs": [],
   "source": [
    "from strands import Agent\n",
    "from strands.models.openai import OpenAIModel\n",
    "from dotenv import load_dotenv\n",
    "import os\n",
    "load_dotenv()\n",
    "\n",
    "model = OpenAIModel(\n",
    "    client_args={\n",
    "        \"api_key\": os.getenv(\"OPENAI_API_KEY\"),\n",
    "    },\n",
    "    # **model_config\n",
    "    model_id=\"gpt-4o\",\n",
    "    params={\n",
    "        \"max_tokens\": 1000,\n",
    "        \"temperature\": 0.7,\n",
    "    }\n",
    ")"
   ]
  },
  {
   "cell_type": "code",
   "execution_count": 3,
   "id": "2b469cbd",
   "metadata": {},
   "outputs": [
    {
     "name": "stderr",
     "output_type": "stream",
     "text": [
      "DEBUG | strands.multiagent.swarm | nodes=<['coder', 'researcher', 'reviewer', 'architect']> | initialized swarm with nodes\n",
      "DEBUG | strands.multiagent.swarm | entry_point=<researcher> | configured entry point\n",
      "DEBUG | strands.multiagent.swarm | tool_count=<1>, node_count=<4> | injected coordination tools into agents\n",
      "DEBUG | strands.multiagent.swarm | starting swarm execution\n",
      "DEBUG | strands.multiagent.swarm | current_node=<researcher> | starting swarm execution with node\n",
      "DEBUG | strands.multiagent.swarm | max_handoffs=<20>, max_iterations=<20>, timeout=<900.0>s | swarm execution config\n",
      "DEBUG | strands.multiagent.swarm | current_node=<researcher>, iteration=<1> | executing node\n",
      "DEBUG | strands.multiagent.swarm | from_node=<researcher>, to_node=<architect> | handed off from agent to agent\n",
      "DEBUG | strands.multiagent.swarm | from_node=<architect>, to_node=<coder> | handed off from agent to agent\n",
      "DEBUG | strands.multiagent.swarm | from_node=<coder>, to_node=<reviewer> | handed off from agent to agent\n"
     ]
    },
    {
     "name": "stdout",
     "output_type": "stream",
     "text": [
      "\n",
      "Tool #1: handoff_to_agent\n",
      "\n",
      "Tool #2: handoff_to_agent\n",
      "\n",
      "Tool #3: handoff_to_agent\n",
      "I have coordinated with the available agents to handle the task of designing and implementing a simple REST API for a todo app:\n",
      "\n",
      "1. **Architect**: The architect will design the architecture, including necessary endpoints, data structures, and other architectural considerations.\n",
      "2. **Coder**: The coder will implement the REST API according to the architect's specifications.\n",
      "3. **Reviewer**: The reviewer will review the implemented code for quality, adherence to best practices, and suggest any potential improvements.\n",
      "\n",
      "The task"
     ]
    },
    {
     "name": "stderr",
     "output_type": "stream",
     "text": [
      "DEBUG | strands.multiagent.swarm | node=<researcher> | node execution completed\n",
      "DEBUG | strands.multiagent.swarm | current_node=<reviewer>, iteration=<2> | executing node\n"
     ]
    },
    {
     "name": "stdout",
     "output_type": "stream",
     "text": [
      " is now distributed among the appropriate agents."
     ]
    },
    {
     "name": "stderr",
     "output_type": "stream",
     "text": [
      "DEBUG | strands.multiagent.swarm | from_node=<reviewer>, to_node=<coder> | handed off from agent to agent\n"
     ]
    },
    {
     "name": "stdout",
     "output_type": "stream",
     "text": [
      "\n",
      "Tool #1: handoff_to_agent\n",
      "I've handed off the task to the coder to design and implement a simple REST API for a todo app. Once the implementation is complete, the code will be reviewed for quality and adherence to best practices. If you need further assistance, feel free to ask!"
     ]
    },
    {
     "name": "stderr",
     "output_type": "stream",
     "text": [
      "DEBUG | strands.multiagent.swarm | node=<reviewer> | node execution completed\n",
      "DEBUG | strands.multiagent.swarm | current_node=<coder>, iteration=<3> | executing node\n",
      "DEBUG | strands.multiagent.swarm | from_node=<coder>, to_node=<architect> | handed off from agent to agent\n"
     ]
    },
    {
     "name": "stdout",
     "output_type": "stream",
     "text": [
      "\n",
      "Tool #1: handoff_to_agent\n",
      "I've handed off the task to the architect to design a simple REST API for a todo app. The design will include endpoints for creating, reading, updating, and"
     ]
    },
    {
     "name": "stderr",
     "output_type": "stream",
     "text": [
      "DEBUG | strands.multiagent.swarm | node=<coder> | node execution completed\n",
      "DEBUG | strands.multiagent.swarm | current_node=<architect>, iteration=<4> | executing node\n"
     ]
    },
    {
     "name": "stdout",
     "output_type": "stream",
     "text": [
      " deleting todo items. Once the design is complete, it will be implemented and reviewed for quality and adherence to best practices."
     ]
    },
    {
     "name": "stderr",
     "output_type": "stream",
     "text": [
      "DEBUG | strands.multiagent.swarm | from_node=<architect>, to_node=<coder> | handed off from agent to agent\n"
     ]
    },
    {
     "name": "stdout",
     "output_type": "stream",
     "text": [
      "\n",
      "Tool #1: handoff_to_agent\n",
      "The task has been handed off to a coder to design and implement a simple REST API for a"
     ]
    },
    {
     "name": "stderr",
     "output_type": "stream",
     "text": [
      "DEBUG | strands.multiagent.swarm | node=<architect> | node execution completed\n",
      "DEBUG | strands.multiagent.swarm | current_node=<coder>, iteration=<5> | executing node\n"
     ]
    },
    {
     "name": "stdout",
     "output_type": "stream",
     "text": [
      " todo app."
     ]
    },
    {
     "name": "stderr",
     "output_type": "stream",
     "text": [
      "DEBUG | strands.multiagent.swarm | from_node=<coder>, to_node=<architect> | handed off from agent to agent\n"
     ]
    },
    {
     "name": "stdout",
     "output_type": "stream",
     "text": [
      "\n",
      "Tool #2: handoff_to_agent\n",
      "I have handed off the task to the architect to design a simple REST API for a todo app. The architect will ensure the design includes endpoints for creating, reading, updating, and deleting todo"
     ]
    },
    {
     "name": "stderr",
     "output_type": "stream",
     "text": [
      "DEBUG | strands.multiagent.swarm | node=<coder> | node execution completed\n",
      "DEBUG | strands.multiagent.swarm | current_node=<architect>, iteration=<6> | executing node\n"
     ]
    },
    {
     "name": "stdout",
     "output_type": "stream",
     "text": [
      " items and adheres to best practices."
     ]
    },
    {
     "name": "stderr",
     "output_type": "stream",
     "text": [
      "DEBUG | strands.multiagent.swarm | from_node=<architect>, to_node=<coder> | handed off from agent to agent\n"
     ]
    },
    {
     "name": "stdout",
     "output_type": "stream",
     "text": [
      "\n",
      "Tool #2: handoff_to_agent\n",
      "I've handed off the task to a coder to implement the REST API design for the todo app, ensuring adherence to"
     ]
    },
    {
     "name": "stderr",
     "output_type": "stream",
     "text": [
      "DEBUG | strands.multiagent.swarm | node=<architect> | node execution completed\n",
      "DEBUG | strands.multiagent.swarm | current_node=<coder>, iteration=<7> | executing node\n"
     ]
    },
    {
     "name": "stdout",
     "output_type": "stream",
     "text": [
      " best practices."
     ]
    },
    {
     "name": "stderr",
     "output_type": "stream",
     "text": [
      "DEBUG | strands.multiagent.swarm | from_node=<coder>, to_node=<architect> | handed off from agent to agent\n"
     ]
    },
    {
     "name": "stdout",
     "output_type": "stream",
     "text": [
      "\n",
      "Tool #3: handoff_to_agent\n",
      "I've handed off the task to an architect to implement the REST API design for the todo app based on the outlined endpoints, ensuring it adheres to best practices. The task will be"
     ]
    },
    {
     "name": "stderr",
     "output_type": "stream",
     "text": [
      "DEBUG | strands.multiagent.swarm | node=<coder> | node execution completed\n",
      "DEBUG | strands.multiagent.swarm | current_node=<architect>, iteration=<8> | executing node\n"
     ]
    },
    {
     "name": "stdout",
     "output_type": "stream",
     "text": [
      " completed by them."
     ]
    },
    {
     "name": "stderr",
     "output_type": "stream",
     "text": [
      "DEBUG | strands.multiagent.swarm | from_node=<architect>, to_node=<coder> | handed off from agent to agent\n"
     ]
    },
    {
     "name": "stdout",
     "output_type": "stream",
     "text": [
      "\n",
      "Tool #3: handoff_to_agent\n",
      "I've handed off the task to a coder to implement the REST API design for the todo app. The coder will ensure that the implementation adheres to"
     ]
    },
    {
     "name": "stderr",
     "output_type": "stream",
     "text": [
      "DEBUG | strands.multiagent.swarm | node=<architect> | node execution completed\n",
      "DEBUG | strands.multiagent.swarm | current_node=<coder>, iteration=<9> | executing node\n"
     ]
    },
    {
     "name": "stdout",
     "output_type": "stream",
     "text": [
      " best practices of RESTful API development."
     ]
    },
    {
     "name": "stderr",
     "output_type": "stream",
     "text": [
      "DEBUG | strands.multiagent.swarm | from_node=<coder>, to_node=<coder> | handed off from agent to agent\n"
     ]
    },
    {
     "name": "stdout",
     "output_type": "stream",
     "text": [
      "\n",
      "Tool #4: handoff_to_agent\n",
      "I've handed off the task to a coder to implement the REST API design for the todo app based on the outlined endpoints. They will ensure the implementation adher"
     ]
    },
    {
     "name": "stderr",
     "output_type": "stream",
     "text": [
      "DEBUG | strands.multiagent.swarm | node=<coder> | node execution completed\n",
      "DEBUG | strands.multiagent.swarm | node=<coder> | no handoff occurred, marking swarm as complete\n",
      "DEBUG | strands.multiagent.swarm | status=<Status.COMPLETED> | swarm execution completed\n",
      "DEBUG | strands.multiagent.swarm | node_history_length=<9>, time=<31.38>s | metrics\n"
     ]
    },
    {
     "name": "stdout",
     "output_type": "stream",
     "text": [
      "es to the best practices of RESTful API development.Status: Status.COMPLETED\n",
      "Node history: ['researcher', 'reviewer', 'coder', 'architect', 'coder', 'architect', 'coder', 'architect', 'coder']\n"
     ]
    }
   ],
   "source": [
    "import logging\n",
    "from strands import Agent\n",
    "from strands.multiagent import Swarm\n",
    "\n",
    "# Enable debug logs and print them to stderr\n",
    "logging.getLogger(\"strands.multiagent\").setLevel(logging.DEBUG)\n",
    "logging.basicConfig(\n",
    "    format=\"%(levelname)s | %(name)s | %(message)s\",\n",
    "    handlers=[logging.StreamHandler()]\n",
    ")\n",
    "\n",
    "# Create specialized agents\n",
    "researcher = Agent(name=\"researcher\", model=model, system_prompt=\"You are a research specialist...\")\n",
    "coder = Agent(name=\"coder\", model=model, system_prompt=\"You are a coding specialist...\")\n",
    "reviewer = Agent(name=\"reviewer\", model=model, system_prompt=\"You are a code review specialist...\")\n",
    "architect = Agent(name=\"architect\", model=model, system_prompt=\"You are a system architecture specialist...\")\n",
    "\n",
    "# Create a swarm with these agents, starting with the researcher\n",
    "swarm = Swarm(\n",
    "    [coder, researcher, reviewer, architect],\n",
    "    entry_point=researcher,  # Start with the researcher\n",
    "    max_handoffs=20,\n",
    "    max_iterations=20,\n",
    "    execution_timeout=900.0,  # 15 minutes\n",
    "    node_timeout=300.0,       # 5 minutes per agent\n",
    "    repetitive_handoff_detection_window=8,  # There must be >= 3 unique agents in the last 8 handoffs\n",
    "    repetitive_handoff_min_unique_agents=3\n",
    ")\n",
    "\n",
    "# Execute the swarm on a task\n",
    "result = swarm(\"Design and implement a simple REST API for a todo app\")\n",
    "\n",
    "# Access the final result\n",
    "print(f\"Status: {result.status}\")\n",
    "print(f\"Node history: {[node.node_id for node in result.node_history]}\")"
   ]
  },
  {
   "cell_type": "code",
   "execution_count": 4,
   "id": "0ee87e61",
   "metadata": {},
   "outputs": [
    {
     "name": "stderr",
     "output_type": "stream",
     "text": [
      "DEBUG | strands.multiagent.swarm | starting swarm execution\n",
      "DEBUG | strands.multiagent.swarm | current_node=<researcher> | starting swarm execution with node\n",
      "DEBUG | strands.multiagent.swarm | max_handoffs=<20>, max_iterations=<20>, timeout=<900.0>s | swarm execution config\n",
      "DEBUG | strands.multiagent.swarm | current_node=<researcher>, iteration=<1> | executing node\n",
      "DEBUG | strands.multiagent.swarm | from_node=<researcher>, to_node=<architect> | handed off from agent to agent\n"
     ]
    },
    {
     "name": "stdout",
     "output_type": "stream",
     "text": [
      "\n",
      "Tool #4: handoff_to_agent\n",
      "I've handed off the task to the architect, who is better suited to design a detailed and well-structured system architecture. They will take it from here"
     ]
    },
    {
     "name": "stderr",
     "output_type": "stream",
     "text": [
      "DEBUG | strands.multiagent.swarm | node=<researcher> | node execution completed\n",
      "DEBUG | strands.multiagent.swarm | current_node=<architect>, iteration=<2> | executing node\n"
     ]
    },
    {
     "name": "stdout",
     "output_type": "stream",
     "text": [
      "!"
     ]
    },
    {
     "name": "stderr",
     "output_type": "stream",
     "text": [
      "DEBUG | strands.multiagent.swarm | from_node=<architect>, to_node=<coder> | handed off from agent to agent\n"
     ]
    },
    {
     "name": "stdout",
     "output_type": "stream",
     "text": [
      "\n",
      "Tool #4: handoff_to_agent\n",
      "The task has been handed off to the coder to provide a detailed and well-structured system"
     ]
    },
    {
     "name": "stderr",
     "output_type": "stream",
     "text": [
      "DEBUG | strands.multiagent.swarm | node=<architect> | node execution completed\n",
      "DEBUG | strands.multiagent.swarm | current_node=<coder>, iteration=<3> | executing node\n"
     ]
    },
    {
     "name": "stdout",
     "output_type": "stream",
     "text": [
      " architecture design based on the user's requirements."
     ]
    },
    {
     "name": "stderr",
     "output_type": "stream",
     "text": [
      "DEBUG | strands.multiagent.swarm | from_node=<coder>, to_node=<architect> | handed off from agent to agent\n"
     ]
    },
    {
     "name": "stdout",
     "output_type": "stream",
     "text": [
      "\n",
      "Tool #5: handoff_to_agent\n"
     ]
    },
    {
     "name": "stderr",
     "output_type": "stream",
     "text": [
      "DEBUG | strands.multiagent.swarm | node=<coder> | node execution completed\n",
      "DEBUG | strands.multiagent.swarm | current_node=<architect>, iteration=<4> | executing node\n"
     ]
    },
    {
     "name": "stdout",
     "output_type": "stream",
     "text": [
      "The task has been handed off to the architect to design a detailed and well-structured system architecture based on the user's requirements."
     ]
    },
    {
     "name": "stderr",
     "output_type": "stream",
     "text": [
      "DEBUG | strands.multiagent.swarm | from_node=<architect>, to_node=<architect> | handed off from agent to agent\n"
     ]
    },
    {
     "name": "stdout",
     "output_type": "stream",
     "text": [
      "\n",
      "Tool #5: handoff_to_agent\n",
      "I've handed off the task to the architect agent, as designing a system architecture is their area of expertise. They'll take over to provide a detailed and well-structured"
     ]
    },
    {
     "name": "stderr",
     "output_type": "stream",
     "text": [
      "DEBUG | strands.multiagent.swarm | node=<architect> | node execution completed\n",
      "DEBUG | strands.multiagent.swarm | node=<architect> | no handoff occurred, marking swarm as complete\n",
      "DEBUG | strands.multiagent.swarm | status=<Status.COMPLETED> | swarm execution completed\n",
      "DEBUG | strands.multiagent.swarm | node_history_length=<4>, time=<11.48>s | metrics\n"
     ]
    },
    {
     "name": "stdout",
     "output_type": "stream",
     "text": [
      " system architecture design based on your requirements.Status: Status.COMPLETED\n",
      "Status: Status.COMPLETED\n",
      "Agent: researcher\n",
      "Agent: architect\n",
      "Agent: coder\n",
      "Agent: architect\n"
     ]
    }
   ],
   "source": [
    "result = swarm(\"Design a system architecture for...\")\n",
    "\n",
    "# Access the final result\n",
    "print(f\"Status: {result.status}\")\n",
    "\n",
    "# Check execution status\n",
    "print(f\"Status: {result.status}\")  # COMPLETED, FAILED, etc.\n",
    "\n",
    "# See which agents were involved\n",
    "for node in result.node_history:\n",
    "    print(f\"Agent: {node.node_id}\")\n"
   ]
  },
  {
   "cell_type": "code",
   "execution_count": null,
   "id": "60569439",
   "metadata": {},
   "outputs": [],
   "source": [
    "# Swarms include several safety mechanisms to prevent infinite loops and ensure reliable execution:\n",
    "\n",
    "# Maximum handoffs: Limits how many times control can be transferred between agents\n",
    "# Maximum iterations: Caps the total number of execution iterations\n",
    "# Execution timeout: Sets a maximum total runtime for the Swarm\n",
    "# Node timeout: Limits how long any single agent can run\n",
    "# Repetitive handoff detection: Prevents agents from endlessly passing control back and forth"
   ]
  },
  {
   "cell_type": "code",
   "execution_count": null,
   "id": "158c7e7f",
   "metadata": {},
   "outputs": [],
   "source": [
    "# EXECUTORS\n",
    "# https://strandsagents.com/latest/documentation/docs/user-guide/concepts/tools/executors/"
   ]
  },
  {
   "cell_type": "code",
   "execution_count": null,
   "id": "2cb43d94",
   "metadata": {},
   "outputs": [],
   "source": [
    "# META-TOOLING\n",
    "# https://strandsagents.com/latest/documentation/docs/examples/python/meta_tooling/\n",
    "# https://github.com/strands-agents/docs/blob/main/docs/examples/python/meta_tooling.py"
   ]
  },
  {
   "cell_type": "code",
   "execution_count": null,
   "id": "27c43311",
   "metadata": {},
   "outputs": [],
   "source": []
  }
 ],
 "metadata": {
  "kernelspec": {
   "display_name": ".venv",
   "language": "python",
   "name": "python3"
  },
  "language_info": {
   "codemirror_mode": {
    "name": "ipython",
    "version": 3
   },
   "file_extension": ".py",
   "mimetype": "text/x-python",
   "name": "python",
   "nbconvert_exporter": "python",
   "pygments_lexer": "ipython3",
   "version": "3.12.4"
  }
 },
 "nbformat": 4,
 "nbformat_minor": 5
}
