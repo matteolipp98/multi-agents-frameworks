{
 "cells": [
  {
   "cell_type": "code",
   "execution_count": 1,
   "id": "2ae89b7d",
   "metadata": {},
   "outputs": [],
   "source": [
    "# https://strandsagents.com/latest/documentation/docs/user-guide/concepts/multi-agent/swarm/"
   ]
  },
  {
   "cell_type": "code",
   "execution_count": 2,
   "id": "6a98fe28",
   "metadata": {},
   "outputs": [],
   "source": [
    "from strands import Agent\n",
    "from strands.models.openai import OpenAIModel\n",
    "from dotenv import load_dotenv\n",
    "import os\n",
    "load_dotenv()\n",
    "\n",
    "model = OpenAIModel(\n",
    "    client_args={\n",
    "        \"api_key\": os.getenv(\"OPENAI_API_KEY\"),\n",
    "    },\n",
    "    # **model_config\n",
    "    model_id=\"gpt-4o\",\n",
    "    params={\n",
    "        \"max_tokens\": 1000,\n",
    "        \"temperature\": 0.7,\n",
    "    }\n",
    ")"
   ]
  },
  {
   "cell_type": "code",
   "execution_count": 11,
   "id": "2b469cbd",
   "metadata": {},
   "outputs": [
    {
     "name": "stderr",
     "output_type": "stream",
     "text": [
      "DEBUG | strands.multiagent.swarm | nodes=<['coder', 'researcher', 'reviewer', 'architect']> | initialized swarm with nodes\n",
      "DEBUG | strands.multiagent.swarm | entry_point=<researcher> | configured entry point\n",
      "DEBUG | strands.multiagent.swarm | tool_count=<1>, node_count=<4> | injected coordination tools into agents\n",
      "DEBUG | strands.multiagent.swarm | starting swarm execution\n",
      "DEBUG | strands.multiagent.swarm | current_node=<researcher> | starting swarm execution with node\n",
      "DEBUG | strands.multiagent.swarm | max_handoffs=<20>, max_iterations=<20>, timeout=<900.0>s | swarm execution config\n",
      "DEBUG | strands.multiagent.swarm | current_node=<researcher>, iteration=<1> | executing node\n",
      "DEBUG | strands.multiagent.swarm | from_node=<researcher>, to_node=<coder> | handed off from agent to agent\n"
     ]
    },
    {
     "name": "stdout",
     "output_type": "stream",
     "text": [
      "\n",
      "Tool #1: handoff_to_agent\n",
      "I've handed off the task to the coder"
     ]
    },
    {
     "name": "stderr",
     "output_type": "stream",
     "text": [
      "DEBUG | strands.multiagent.swarm | node=<researcher> | node execution completed\n"
     ]
    },
    {
     "name": "stdout",
     "output_type": "stream",
     "text": [
      " agent to write the code for a simple login page."
     ]
    },
    {
     "name": "stderr",
     "output_type": "stream",
     "text": [
      "DEBUG | strands.multiagent.swarm | current_node=<coder>, iteration=<2> | executing node\n",
      "DEBUG | strands.multiagent.swarm | from_node=<coder>, to_node=<architect> | handed off from agent to agent\n"
     ]
    },
    {
     "name": "stdout",
     "output_type": "stream",
     "text": [
      "\n",
      "Tool #1: handoff_to_agent\n",
      "I've handed off the task to the architect to design a basic HTML structure with CSS and JavaScript for a simple login page. They'll take care of the code implementation"
     ]
    },
    {
     "name": "stderr",
     "output_type": "stream",
     "text": [
      "DEBUG | strands.multiagent.swarm | node=<coder> | node execution completed\n",
      "DEBUG | strands.multiagent.swarm | current_node=<architect>, iteration=<3> | executing node\n"
     ]
    },
    {
     "name": "stdout",
     "output_type": "stream",
     "text": [
      " for you."
     ]
    },
    {
     "name": "stderr",
     "output_type": "stream",
     "text": [
      "DEBUG | strands.multiagent.swarm | from_node=<architect>, to_node=<coder> | handed off from agent to agent\n",
      "DEBUG | strands.multiagent.swarm | from_node=<coder>, to_node=<reviewer> | handed off from agent to agent\n"
     ]
    },
    {
     "name": "stdout",
     "output_type": "stream",
     "text": [
      "\n",
      "Tool #1: handoff_to_agent\n",
      "\n",
      "Tool #2: handoff_to_agent\n",
      "I have handed off the task to both the coder and the reviewer. The coder will design a basic HTML structure along with CSS for styling and JavaScript for form validation if necessary, including fields for username and password and a submit button. Once completed, the reviewer"
     ]
    },
    {
     "name": "stderr",
     "output_type": "stream",
     "text": [
      "DEBUG | strands.multiagent.swarm | node=<architect> | node execution completed\n",
      "DEBUG | strands.multiagent.swarm | current_node=<reviewer>, iteration=<4> | executing node\n"
     ]
    },
    {
     "name": "stdout",
     "output_type": "stream",
     "text": [
      " will check the quality and correctness of the code."
     ]
    },
    {
     "name": "stderr",
     "output_type": "stream",
     "text": [
      "DEBUG | strands.multiagent.swarm | from_node=<reviewer>, to_node=<coder> | handed off from agent to agent\n"
     ]
    },
    {
     "name": "stdout",
     "output_type": "stream",
     "text": [
      "\n",
      "Tool #1: handoff_to_agent\n",
      "I have handed off the task to a coder to write the code for a simple login page, including HTML, CSS, and JavaScript. Once they complete it, it will be"
     ]
    },
    {
     "name": "stderr",
     "output_type": "stream",
     "text": [
      "DEBUG | strands.multiagent.swarm | node=<reviewer> | node execution completed\n",
      "DEBUG | strands.multiagent.swarm | current_node=<coder>, iteration=<5> | executing node\n"
     ]
    },
    {
     "name": "stdout",
     "output_type": "stream",
     "text": [
      " reviewed for quality and correctness."
     ]
    },
    {
     "name": "stderr",
     "output_type": "stream",
     "text": [
      "DEBUG | strands.multiagent.swarm | from_node=<coder>, to_node=<researcher> | handed off from agent to agent\n",
      "DEBUG | strands.multiagent.swarm | from_node=<researcher>, to_node=<reviewer> | handed off from agent to agent\n",
      "DEBUG | strands.multiagent.swarm | from_node=<reviewer>, to_node=<architect> | handed off from agent to agent\n"
     ]
    },
    {
     "name": "stdout",
     "output_type": "stream",
     "text": [
      "\n",
      "Tool #2: handoff_to_agent\n",
      "\n",
      "Tool #3: handoff_to_agent\n",
      "\n",
      "Tool #4: handoff_to_agent\n",
      "I have coordinated with other agents to assist in developing the simple login page:\n",
      "\n",
      "1. **Researcher**: Gathering additional requirements and best practices for creating the login page.\n",
      "2. **Architect**: Designing the structure and components needed for the login page.\n",
      "3. **Reviewer**: Preparing to review the code once it is developed.\n",
      "\n",
      "These agents will"
     ]
    },
    {
     "name": "stderr",
     "output_type": "stream",
     "text": [
      "DEBUG | strands.multiagent.swarm | node=<coder> | node execution completed\n"
     ]
    },
    {
     "name": "stdout",
     "output_type": "stream",
     "text": [
      " contribute their expertise to ensure the login page meets quality standards and requirements."
     ]
    },
    {
     "name": "stderr",
     "output_type": "stream",
     "text": [
      "DEBUG | strands.multiagent.swarm | current_node=<architect>, iteration=<6> | executing node\n",
      "DEBUG | strands.multiagent.swarm | from_node=<architect>, to_node=<coder> | handed off from agent to agent\n"
     ]
    },
    {
     "name": "stdout",
     "output_type": "stream",
     "text": [
      "\n",
      "Tool #3: handoff_to_agent\n"
     ]
    },
    {
     "name": "stderr",
     "output_type": "stream",
     "text": [
      "DEBUG | strands.multiagent.swarm | node=<architect> | node execution completed\n",
      "DEBUG | strands.multiagent.swarm | current_node=<coder>, iteration=<7> | executing node\n"
     ]
    },
    {
     "name": "stdout",
     "output_type": "stream",
     "text": [
      "The task has been handed off to a coder to implement the design and ensure the login page functions as intended."
     ]
    },
    {
     "name": "stderr",
     "output_type": "stream",
     "text": [
      "DEBUG | strands.multiagent.swarm | from_node=<coder>, to_node=<reviewer> | handed off from agent to agent\n"
     ]
    },
    {
     "name": "stdout",
     "output_type": "stream",
     "text": [
      "\n",
      "Tool #5: handoff_to_agent\n"
     ]
    },
    {
     "name": "stderr",
     "output_type": "stream",
     "text": [
      "DEBUG | strands.multiagent.swarm | node=<coder> | node execution completed\n"
     ]
    },
    {
     "name": "stdout",
     "output_type": "stream",
     "text": [
      "The task has been handed off to a reviewer to ensure the login page's design and functionality meet the required standards."
     ]
    },
    {
     "name": "stderr",
     "output_type": "stream",
     "text": [
      "DEBUG | strands.multiagent.swarm | current_node=<reviewer>, iteration=<8> | executing node\n",
      "DEBUG | strands.multiagent.swarm | from_node=<reviewer>, to_node=<coder> | handed off from agent to agent\n"
     ]
    },
    {
     "name": "stdout",
     "output_type": "stream",
     "text": [
      "\n",
      "Tool #2: handoff_to_agent\n",
      "I've handed off the task to the coder for a detailed review of the login page code, focusing on the HTML, CSS, and JavaScript components to"
     ]
    },
    {
     "name": "stderr",
     "output_type": "stream",
     "text": [
      "DEBUG | strands.multiagent.swarm | node=<reviewer> | node execution completed\n",
      "DEBUG | strands.multiagent.swarm | current_node=<coder>, iteration=<9> | executing node\n"
     ]
    },
    {
     "name": "stdout",
     "output_type": "stream",
     "text": [
      " ensure both design and functionality meet the required standards."
     ]
    },
    {
     "name": "stderr",
     "output_type": "stream",
     "text": [
      "DEBUG | strands.multiagent.swarm | from_node=<coder>, to_node=<reviewer> | handed off from agent to agent\n"
     ]
    },
    {
     "name": "stdout",
     "output_type": "stream",
     "text": [
      "\n",
      "Tool #6: handoff_to_agent\n",
      "I've handed off the task to a reviewer to ensure the login page code meets design and functionality standards. They'll examine the HTML, CSS, and JavaScript components for correctness and"
     ]
    },
    {
     "name": "stderr",
     "output_type": "stream",
     "text": [
      "DEBUG | strands.multiagent.swarm | node=<coder> | node execution completed\n",
      "DEBUG | strands.multiagent.swarm | current_node=<reviewer>, iteration=<10> | executing node\n"
     ]
    },
    {
     "name": "stdout",
     "output_type": "stream",
     "text": [
      " suggest improvements if needed."
     ]
    },
    {
     "name": "stderr",
     "output_type": "stream",
     "text": [
      "DEBUG | strands.multiagent.swarm | from_node=<reviewer>, to_node=<coder> | handed off from agent to agent\n"
     ]
    },
    {
     "name": "stdout",
     "output_type": "stream",
     "text": [
      "\n",
      "Tool #3: handoff_to_agent\n"
     ]
    },
    {
     "name": "stderr",
     "output_type": "stream",
     "text": [
      "DEBUG | strands.multiagent.swarm | node=<reviewer> | node execution completed\n"
     ]
    },
    {
     "name": "stdout",
     "output_type": "stream",
     "text": [
      "The task has been handed off to a coder for a thorough review of the login page code, including HTML, CSS, and JavaScript components."
     ]
    },
    {
     "name": "stderr",
     "output_type": "stream",
     "text": [
      "DEBUG | strands.multiagent.swarm | current_node=<coder>, iteration=<11> | executing node\n",
      "DEBUG | strands.multiagent.swarm | from_node=<coder>, to_node=<reviewer> | handed off from agent to agent\n"
     ]
    },
    {
     "name": "stdout",
     "output_type": "stream",
     "text": [
      "\n",
      "Tool #7: handoff_to_agent\n",
      "The task has been handed off to a reviewer for a thorough examination of the login"
     ]
    },
    {
     "name": "stderr",
     "output_type": "stream",
     "text": [
      "DEBUG | strands.multiagent.swarm | node=<coder> | node execution completed\n",
      "DEBUG | strands.multiagent.swarm | current_node=<reviewer>, iteration=<12> | executing node\n"
     ]
    },
    {
     "name": "stdout",
     "output_type": "stream",
     "text": [
      " page code to ensure it meets design and functionality standards."
     ]
    },
    {
     "name": "stderr",
     "output_type": "stream",
     "text": [
      "DEBUG | strands.multiagent.swarm | from_node=<reviewer>, to_node=<coder> | handed off from agent to agent\n"
     ]
    },
    {
     "name": "stdout",
     "output_type": "stream",
     "text": [
      "\n",
      "Tool #4: handoff_to_agent\n",
      "I've handed off the task to the coder to write the code for a simple login page. This will include HTML for structure, CSS for styling, and JavaScript for basic functionality such as form validation."
     ]
    },
    {
     "name": "stderr",
     "output_type": "stream",
     "text": [
      "DEBUG | strands.multiagent.swarm | node=<reviewer> | node execution completed\n"
     ]
    },
    {
     "name": "stdout",
     "output_type": "stream",
     "text": [
      " The coder will ensure that the code is ready for a thorough review."
     ]
    },
    {
     "name": "stderr",
     "output_type": "stream",
     "text": [
      "DEBUG | strands.multiagent.swarm | current_node=<coder>, iteration=<13> | executing node\n"
     ]
    },
    {
     "name": "stdout",
     "output_type": "stream",
     "text": [
      "To create a simple login page with HTML, CSS, and JavaScript, here's a basic implementation:\n",
      "\n",
      "### HTML (index.html)\n",
      "```html\n",
      "<!DOCTYPE html>\n",
      "<html lang=\"en\">\n",
      "<head>\n",
      "    <meta charset=\"UTF-8\">\n",
      "    <meta name=\"viewport\" content=\"width=device-width, initial-scale=1.0\">\n",
      "    <title>Login Page</title>\n",
      "    <link rel=\"stylesheet\" href=\"styles.css\">\n",
      "</head>\n",
      "<body>\n",
      "    <div class=\"login-container\">\n",
      "        <h2>Login</h2>\n",
      "        <form id=\"loginForm\">\n",
      "            <div class=\"input-group\">\n",
      "                <label for=\"username\">Username:</label>\n",
      "                <input type=\"text\" id=\"username\" name=\"username\" required>\n",
      "            </div>\n",
      "            <div class=\"input-group\">\n",
      "                <label for=\"password\">Password:</label>\n",
      "                <input type=\"password\" id=\"password\" name=\"password\" required>\n",
      "            </div>\n",
      "            <button type=\"submit\">Login</button>\n",
      "        </form>\n",
      "        <div id=\"error-message\"></div>\n",
      "    </div>\n",
      "    <script src=\"script.js\"></script>\n",
      "</body>\n",
      "</html>\n",
      "```\n",
      "\n",
      "### CSS (styles.css)\n",
      "```css\n",
      "body {\n",
      "    font-family: Arial, sans-serif;\n",
      "    background-color: #f2f2f2;\n",
      "    display: flex;\n",
      "    justify-content: center;\n",
      "    align-items: center;\n",
      "    height: 100vh;\n",
      "    margin: 0;\n",
      "}\n",
      "\n",
      ".login-container {\n",
      "    background-color: white;\n",
      "    padding: 20px;\n",
      "    border-radius: 5px;\n",
      "    box-shadow: 0 0 10px rgba(0, 0, 0, 0.1);\n",
      "    width: 300px;\n",
      "}\n",
      "\n",
      "h2 {\n",
      "    text-align: center;\n",
      "    margin-bottom: 20px;\n",
      "}\n",
      "\n",
      ".input-group {\n",
      "    margin-bottom: 15px;\n",
      "}\n",
      "\n",
      ".input-group label {\n",
      "    display: block;\n",
      "    margin-bottom: 5px;\n",
      "}\n",
      "\n",
      ".input-group input {\n",
      "    width: 100%;\n",
      "    padding: 8px;\n",
      "    box-sizing: border-box;\n",
      "}\n",
      "\n",
      "button {\n",
      "    width: 100%;\n",
      "    padding: 10px;\n",
      "    background-color: #007BFF;\n",
      "    color: white;\n",
      "    border: none;\n",
      "    border-radius: 5px;\n",
      "    cursor: pointer;\n",
      "    font-size: 16px;\n",
      "}\n",
      "\n",
      "button:hover {\n",
      "    background-color: #0056b3;\n",
      "}\n",
      "\n",
      "#error-message {\n",
      "    color: red;\n",
      "    text-align: center;\n",
      "    margin-top: 10px;\n",
      "}\n",
      "```\n",
      "\n",
      "### JavaScript (script.js)\n",
      "```javascript\n",
      "document.getElementById('loginForm').addEventListener('submit', function(event) {\n",
      "    event.preventDefault();\n",
      "    const username = document.getElementById('username').value;\n",
      "    const password = document.getElementById('password').value;\n",
      "    const errorMessage = document.getElementById('error-message');\n",
      "\n",
      "    if (username === \"\" || password === \"\") {\n",
      "        errorMessage.textContent = \"Both fields are required.\";\n",
      "        return;\n",
      "    }\n",
      "\n",
      "    // This is where you would typically send the form data to the server\n",
      "    // For demonstration, we'll just show an alert\n",
      "    alert('Logged in successfully!');\n",
      "    errorMessage.textContent = \"\"; // Clear any previous error messages\n",
      "});\n",
      "```\n",
      "\n",
      "This code provides a simple login page with basic styling and form validation using JavaScript. It checks if both fields are filled before allowing the form submission. For a full implementation, you would typically send the form data to a server for authentication.\n",
      "\n",
      "If further review or architectural changes are needed, I can hand this off to another agent. Would you like me to proceed with a handoff"
     ]
    },
    {
     "name": "stderr",
     "output_type": "stream",
     "text": [
      "DEBUG | strands.multiagent.swarm | node=<coder> | node execution completed\n",
      "DEBUG | strands.multiagent.swarm | node=<coder> | no handoff occurred, marking swarm as complete\n"
     ]
    },
    {
     "name": "stdout",
     "output_type": "stream",
     "text": [
      " for review or architecture evaluation?"
     ]
    },
    {
     "name": "stderr",
     "output_type": "stream",
     "text": [
      "DEBUG | strands.multiagent.swarm | status=<Status.COMPLETED> | swarm execution completed\n",
      "DEBUG | strands.multiagent.swarm | node_history_length=<13>, time=<66.36>s | metrics\n"
     ]
    },
    {
     "name": "stdout",
     "output_type": "stream",
     "text": [
      "Status: Status.COMPLETED\n",
      "Node history: ['researcher', 'coder', 'architect', 'reviewer', 'coder', 'architect', 'coder', 'reviewer', 'coder', 'reviewer', 'coder', 'reviewer', 'coder']\n"
     ]
    }
   ],
   "source": [
    "import logging\n",
    "from strands import Agent\n",
    "from strands.multiagent import Swarm\n",
    "\n",
    "# Enable debug logs and print them to stderr\n",
    "logging.getLogger(\"strands.multiagent\").setLevel(logging.DEBUG)\n",
    "logging.basicConfig(\n",
    "    format=\"%(levelname)s | %(name)s | %(message)s\",\n",
    "    handlers=[logging.StreamHandler()]\n",
    ")\n",
    "\n",
    "# Create specialized agents\n",
    "researcher = Agent(name=\"researcher\", model=model, system_prompt=\"You are a research specialist...\")\n",
    "coder = Agent(name=\"coder\", model=model, system_prompt=\"You are a coding specialist...\")\n",
    "reviewer = Agent(name=\"reviewer\", model=model, system_prompt=\"You are a code review specialist...\")\n",
    "architect = Agent(name=\"architect\", model=model, system_prompt=\"You are a system architecture specialist...\")\n",
    "\n",
    "# Create a swarm with these agents, starting with the researcher\n",
    "swarm = Swarm(\n",
    "    [coder, researcher, reviewer, architect],\n",
    "    entry_point=researcher,  # Start with the researcher\n",
    "    max_handoffs=20,\n",
    "    max_iterations=20,\n",
    "    execution_timeout=900.0,  # 15 minutes\n",
    "    node_timeout=300.0,       # 5 minutes per agent\n",
    "    repetitive_handoff_detection_window=8,  # There must be >= 3 unique agents in the last 8 handoffs\n",
    "    repetitive_handoff_min_unique_agents=3\n",
    ")\n",
    "\n",
    "# Execute the swarm on a task\n",
    "result = swarm(\"write code for a simple login page\")\n",
    "\n",
    "# Access the final result\n",
    "print(f\"Status: {result.status}\")\n",
    "print(f\"Node history: {[node.node_id for node in result.node_history]}\")"
   ]
  },
  {
   "cell_type": "code",
   "execution_count": 12,
   "id": "3b42b98a",
   "metadata": {},
   "outputs": [
    {
     "data": {
      "text/plain": [
       "{'researcher': NodeResult(result=AgentResult(stop_reason='end_turn', message={'role': 'assistant', 'content': [{'text': \"I've handed off the task to the coder agent to write the code for a simple login page.\"}]}, metrics=EventLoopMetrics(cycle_count=2, tool_metrics={'handoff_to_agent': ToolMetrics(tool={'toolUseId': 'call_u7B5DdmGMbvS4PNrYDCqFCOE', 'name': 'handoff_to_agent', 'input': {'agent_name': 'coder', 'message': 'The user has requested code for a simple login page. Please write the code for a basic HTML/CSS/JavaScript login page that includes fields for username and password and a submit button.'}}, call_count=1, success_count=1, error_count=0, total_time=0.006295680999755859)}, cycle_durations=[1.6524014472961426], traces=[<strands.telemetry.metrics.Trace object at 0x0000027042FDFA40>, <strands.telemetry.metrics.Trace object at 0x00000270432CF560>], accumulated_usage={'inputTokens': 516, 'outputTokens': 78, 'totalTokens': 594}, accumulated_metrics={'latencyMs': 0}), state={}), execution_time=5998, status=<Status.COMPLETED: 'completed'>, accumulated_usage={'inputTokens': 516, 'outputTokens': 78, 'totalTokens': 594}, accumulated_metrics={'latencyMs': 0}, execution_count=1),\n",
       " 'coder': NodeResult(result=AgentResult(stop_reason='end_turn', message={'role': 'assistant', 'content': [{'text': 'To create a simple login page with HTML, CSS, and JavaScript, here\\'s a basic implementation:\\n\\n### HTML (index.html)\\n```html\\n<!DOCTYPE html>\\n<html lang=\"en\">\\n<head>\\n    <meta charset=\"UTF-8\">\\n    <meta name=\"viewport\" content=\"width=device-width, initial-scale=1.0\">\\n    <title>Login Page</title>\\n    <link rel=\"stylesheet\" href=\"styles.css\">\\n</head>\\n<body>\\n    <div class=\"login-container\">\\n        <h2>Login</h2>\\n        <form id=\"loginForm\">\\n            <div class=\"input-group\">\\n                <label for=\"username\">Username:</label>\\n                <input type=\"text\" id=\"username\" name=\"username\" required>\\n            </div>\\n            <div class=\"input-group\">\\n                <label for=\"password\">Password:</label>\\n                <input type=\"password\" id=\"password\" name=\"password\" required>\\n            </div>\\n            <button type=\"submit\">Login</button>\\n        </form>\\n        <div id=\"error-message\"></div>\\n    </div>\\n    <script src=\"script.js\"></script>\\n</body>\\n</html>\\n```\\n\\n### CSS (styles.css)\\n```css\\nbody {\\n    font-family: Arial, sans-serif;\\n    background-color: #f2f2f2;\\n    display: flex;\\n    justify-content: center;\\n    align-items: center;\\n    height: 100vh;\\n    margin: 0;\\n}\\n\\n.login-container {\\n    background-color: white;\\n    padding: 20px;\\n    border-radius: 5px;\\n    box-shadow: 0 0 10px rgba(0, 0, 0, 0.1);\\n    width: 300px;\\n}\\n\\nh2 {\\n    text-align: center;\\n    margin-bottom: 20px;\\n}\\n\\n.input-group {\\n    margin-bottom: 15px;\\n}\\n\\n.input-group label {\\n    display: block;\\n    margin-bottom: 5px;\\n}\\n\\n.input-group input {\\n    width: 100%;\\n    padding: 8px;\\n    box-sizing: border-box;\\n}\\n\\nbutton {\\n    width: 100%;\\n    padding: 10px;\\n    background-color: #007BFF;\\n    color: white;\\n    border: none;\\n    border-radius: 5px;\\n    cursor: pointer;\\n    font-size: 16px;\\n}\\n\\nbutton:hover {\\n    background-color: #0056b3;\\n}\\n\\n#error-message {\\n    color: red;\\n    text-align: center;\\n    margin-top: 10px;\\n}\\n```\\n\\n### JavaScript (script.js)\\n```javascript\\ndocument.getElementById(\\'loginForm\\').addEventListener(\\'submit\\', function(event) {\\n    event.preventDefault();\\n    const username = document.getElementById(\\'username\\').value;\\n    const password = document.getElementById(\\'password\\').value;\\n    const errorMessage = document.getElementById(\\'error-message\\');\\n\\n    if (username === \"\" || password === \"\") {\\n        errorMessage.textContent = \"Both fields are required.\";\\n        return;\\n    }\\n\\n    // This is where you would typically send the form data to the server\\n    // For demonstration, we\\'ll just show an alert\\n    alert(\\'Logged in successfully!\\');\\n    errorMessage.textContent = \"\"; // Clear any previous error messages\\n});\\n```\\n\\nThis code provides a simple login page with basic styling and form validation using JavaScript. It checks if both fields are filled before allowing the form submission. For a full implementation, you would typically send the form data to a server for authentication.\\n\\nIf further review or architectural changes are needed, I can hand this off to another agent. Would you like me to proceed with a handoff for review or architecture evaluation?'}]}, metrics=EventLoopMetrics(cycle_count=11, tool_metrics={'handoff_to_agent': ToolMetrics(tool={'toolUseId': 'call_riuCMyNkp8cj1qdinmM3kCFB', 'name': 'handoff_to_agent', 'input': {'agent_name': 'reviewer', 'message': 'The login page code needs a thorough review to ensure that it meets the design and functionality standards. Please examine the HTML, CSS, and JavaScript components for correctness and suggest any necessary improvements.'}}, call_count=7, success_count=7, error_count=0, total_time=0.028186798095703125)}, cycle_durations=[1.9322538375854492, 2.970060348510742, 1.8405942916870117, 1.5900790691375732, 3.365813970565796, 11.977133989334106], traces=[<strands.telemetry.metrics.Trace object at 0x00000270431F2F90>, <strands.telemetry.metrics.Trace object at 0x00000270432CE570>, <strands.telemetry.metrics.Trace object at 0x0000027045C3CD10>, <strands.telemetry.metrics.Trace object at 0x00000270432E4DD0>, <strands.telemetry.metrics.Trace object at 0x0000027045C3CF80>, <strands.telemetry.metrics.Trace object at 0x00000270432E67B0>, <strands.telemetry.metrics.Trace object at 0x00000270432E7D70>, <strands.telemetry.metrics.Trace object at 0x00000270432E7DD0>, <strands.telemetry.metrics.Trace object at 0x0000027045C3D3A0>, <strands.telemetry.metrics.Trace object at 0x0000027045C3DFA0>, <strands.telemetry.metrics.Trace object at 0x00000270432EF2C0>], accumulated_usage={'inputTokens': 3701, 'outputTokens': 1414, 'totalTokens': 5115}, accumulated_metrics={'latencyMs': 0}), state={}), execution_time=11977, status=<Status.COMPLETED: 'completed'>, accumulated_usage={'inputTokens': 3701, 'outputTokens': 1414, 'totalTokens': 5115}, accumulated_metrics={'latencyMs': 0}, execution_count=1),\n",
       " 'architect': NodeResult(result=AgentResult(stop_reason='end_turn', message={'role': 'assistant', 'content': [{'text': 'The task has been handed off to a coder to implement the design and ensure the login page functions as intended.'}]}, metrics=EventLoopMetrics(cycle_count=4, tool_metrics={'handoff_to_agent': ToolMetrics(tool={'toolUseId': 'call_nGxfB5B6St0YtqqNJAj9lrEX', 'name': 'handoff_to_agent', 'input': {'agent_name': 'coder', 'message': \"Please design the structure and components needed for a simple login page, including HTML, CSS, and JavaScript. The user has requested code for a simple login page, and it's your expertise to implement the design and ensure it works as intended.\"}}, call_count=3, success_count=3, error_count=0, total_time=0.05011725425720215)}, cycle_durations=[1.6988747119903564, 1.4341604709625244], traces=[<strands.telemetry.metrics.Trace object at 0x0000027042FDEB40>, <strands.telemetry.metrics.Trace object at 0x0000027045C3C290>, <strands.telemetry.metrics.Trace object at 0x0000027045C3E2A0>, <strands.telemetry.metrics.Trace object at 0x00000270432E2720>], accumulated_usage={'inputTokens': 1348, 'outputTokens': 270, 'totalTokens': 1618}, accumulated_metrics={'latencyMs': 0}), state={}), execution_time=3037, status=<Status.COMPLETED: 'completed'>, accumulated_usage={'inputTokens': 1348, 'outputTokens': 270, 'totalTokens': 1618}, accumulated_metrics={'latencyMs': 0}, execution_count=1),\n",
       " 'reviewer': NodeResult(result=AgentResult(stop_reason='end_turn', message={'role': 'assistant', 'content': [{'text': \"I've handed off the task to the coder to write the code for a simple login page. This will include HTML for structure, CSS for styling, and JavaScript for basic functionality such as form validation. The coder will ensure that the code is ready for a thorough review.\"}]}, metrics=EventLoopMetrics(cycle_count=8, tool_metrics={'handoff_to_agent': ToolMetrics(tool={'toolUseId': 'call_jZ36WmOJnCxttusFJ0lCaIR7', 'name': 'handoff_to_agent', 'input': {'agent_name': 'coder', 'message': 'Please write the code for a simple login page, ensuring it includes HTML for structure, CSS for styling, and JavaScript for basic functionality like form validation. This will enable the reviewer to conduct a thorough review and suggest improvements as needed.'}}, call_count=4, success_count=4, error_count=0, total_time=0.009280920028686523)}, cycle_durations=[1.6640782356262207, 1.5488193035125732, 1.4190657138824463, 1.8931772708892822], traces=[<strands.telemetry.metrics.Trace object at 0x0000027045C3E150>, <strands.telemetry.metrics.Trace object at 0x0000027045C3E780>, <strands.telemetry.metrics.Trace object at 0x00000270432E72C0>, <strands.telemetry.metrics.Trace object at 0x00000270432E2480>, <strands.telemetry.metrics.Trace object at 0x00000270432E4E90>, <strands.telemetry.metrics.Trace object at 0x00000270432E22D0>, <strands.telemetry.metrics.Trace object at 0x00000270432E3E90>, <strands.telemetry.metrics.Trace object at 0x00000270432E75F0>], accumulated_usage={'inputTokens': 2624, 'outputTokens': 402, 'totalTokens': 3026}, accumulated_metrics={'latencyMs': 0}), state={}), execution_time=5295, status=<Status.COMPLETED: 'completed'>, accumulated_usage={'inputTokens': 2624, 'outputTokens': 402, 'totalTokens': 3026}, accumulated_metrics={'latencyMs': 0}, execution_count=1)}"
      ]
     },
     "execution_count": 12,
     "metadata": {},
     "output_type": "execute_result"
    }
   ],
   "source": [
    "data = result.results\n",
    "data"
   ]
  },
  {
   "cell_type": "code",
   "execution_count": 5,
   "id": "af1bff44",
   "metadata": {},
   "outputs": [],
   "source": [
    "# %pip install networkx matplotlib"
   ]
  },
  {
   "cell_type": "code",
   "execution_count": null,
   "id": "60569439",
   "metadata": {},
   "outputs": [],
   "source": [
    "# Swarms include several safety mechanisms to prevent infinite loops and ensure reliable execution:\n",
    "\n",
    "# Maximum handoffs: Limits how many times control can be transferred between agents\n",
    "# Maximum iterations: Caps the total number of execution iterations\n",
    "# Execution timeout: Sets a maximum total runtime for the Swarm\n",
    "# Node timeout: Limits how long any single agent can run\n",
    "# Repetitive handoff detection: Prevents agents from endlessly passing control back and forth"
   ]
  },
  {
   "cell_type": "code",
   "execution_count": null,
   "id": "158c7e7f",
   "metadata": {},
   "outputs": [],
   "source": [
    "# EXECUTORS\n",
    "# https://strandsagents.com/latest/documentation/docs/user-guide/concepts/tools/executors/"
   ]
  },
  {
   "cell_type": "code",
   "execution_count": null,
   "id": "2cb43d94",
   "metadata": {},
   "outputs": [],
   "source": [
    "# META-TOOLING\n",
    "# https://strandsagents.com/latest/documentation/docs/examples/python/meta_tooling/\n",
    "# https://github.com/strands-agents/docs/blob/main/docs/examples/python/meta_tooling.py"
   ]
  },
  {
   "cell_type": "code",
   "execution_count": null,
   "id": "27c43311",
   "metadata": {},
   "outputs": [],
   "source": []
  }
 ],
 "metadata": {
  "kernelspec": {
   "display_name": ".venv",
   "language": "python",
   "name": "python3"
  },
  "language_info": {
   "codemirror_mode": {
    "name": "ipython",
    "version": 3
   },
   "file_extension": ".py",
   "mimetype": "text/x-python",
   "name": "python",
   "nbconvert_exporter": "python",
   "pygments_lexer": "ipython3",
   "version": "3.12.4"
  }
 },
 "nbformat": 4,
 "nbformat_minor": 5
}
